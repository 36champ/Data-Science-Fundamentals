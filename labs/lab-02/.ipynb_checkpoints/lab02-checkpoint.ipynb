{
 "cells": [
  {
   "attachments": {},
   "cell_type": "markdown",
   "metadata": {},
   "source": [
    "## Lab 02 - Pandas and Data Visualization\n",
    "This notebook will introduce you to the basics of Pandas and Data Visualization. You will learn how to load data into a Pandas DataFrame, how to perform basic data analysis, and how to visualize data. The first part of this notebook will be an interactive tutorial, and the second part will be practice exercises for you to do! **Note that the practice problems will be checked when submitted!**"
   ]
  },
  {
   "cell_type": "markdown",
   "metadata": {},
   "source": [
    "#### Pandas\n",
    "Pandas is a popular open-source Python library that provides data structures and data analysis tools for working with structured data. Pandas is a versatile library that simplifies data manipulation, analysis, and exploration in Python. Some of its uses:\n",
    "* Tabular Data Handling\n",
    "* Data Cleaning and Transformation\n",
    "* Data Exploration\n",
    "* Data Import/Export\n",
    "* Data Visualization\n",
    "\n",
    "#### Matplotlib\n",
    "Matplotlib is a widely used for creating static, animated, and interactive visualizations. Whether you are conducting data analysis, scientific research, or data communication, Matplotlib helps you present your findings effectively and intuitively."
   ]
  },
  {
   "attachments": {},
   "cell_type": "markdown",
   "metadata": {},
   "source": [
    "### Pre-requisites"
   ]
  },
  {
   "cell_type": "code",
   "execution_count": 1,
   "metadata": {},
   "outputs": [],
   "source": [
    "# In case you don't have pandas, uncomment\n",
    "# the following lines and run the cell\n",
    "\n",
    "# %pip install pandas"
   ]
  },
  {
   "attachments": {},
   "cell_type": "markdown",
   "metadata": {},
   "source": [
    "### Overview\n",
    "In this notebook, you will be learning how to use the Pandas library by working with the `cookies.csv` file. \n",
    "\n",
    "#### `cookies.csv` file :\n",
    "\n",
    "The `cookies.csv` file contains information about cookies that were made in Rico's Bisquito's factory. \n",
    "\n",
    "The columns are the following:\n",
    "\n",
    "`cookie`: the name of a cookie\n",
    "`ingredients`: a list of the cookie's ingredients\n",
    "`calories`: the number of calories the created cookie has\n",
    "`radius`: the radius of the created cookie, in cm\n",
    "`cost_to_make`: the cost it took to make the created cookie, in dollars"
   ]
  },
  {
   "attachments": {},
   "cell_type": "markdown",
   "metadata": {},
   "source": [
    "### Reading the CSV file\n",
    "\n",
    "First, we need to import the Pandas library. We will be using the `pd` alias for the Pandas library."
   ]
  },
  {
   "cell_type": "code",
   "execution_count": 85,
   "metadata": {},
   "outputs": [],
   "source": [
    "#TODO: import pandas and matplotlib in this cell\n",
    "import pandas as pd\n",
    "import matplotlib.pyplot as plt"
   ]
  },
  {
   "attachments": {},
   "cell_type": "markdown",
   "metadata": {},
   "source": [
    "We will now look at the `cookies.csv` file. We will use the `pd.read_csv()` function to read in the CSV file. We will store the data in a variable called `cookies`."
   ]
  },
  {
   "cell_type": "code",
   "execution_count": 38,
   "metadata": {},
   "outputs": [],
   "source": [
    "#TODO: read the cookies.csv file into a pandas dataframe\n",
    "cookies = pd.read_csv(\"cookies.csv\")"
   ]
  },
  {
   "attachments": {},
   "cell_type": "markdown",
   "metadata": {},
   "source": [
    "#### Dataframe\n",
    "Dataframes are a data structure that Pandas uses to store data. Dataframes are similar to tables in a database. Dataframes have rows and columns. Each row represents a single data point, and each column represents a feature of the data point."
   ]
  },
  {
   "attachments": {},
   "cell_type": "markdown",
   "metadata": {},
   "source": [
    "We will then make sure we imported the data correctly by printing out the first 10 rows of the data, using the `head()` function."
   ]
  },
  {
   "cell_type": "code",
   "execution_count": 39,
   "metadata": {},
   "outputs": [
    {
     "name": "stdout",
     "output_type": "stream",
     "text": [
      "            cookie                                        ingredients  \\\n",
      "0     laddoo lemon             [\"flour\",\"lemon juice\",\"sugar\",\"ghee\"]   \n",
      "1  red velvet rauw  [\"flour\",\"cocoa powder\",\"butter\",\"red food col...   \n",
      "2         nevadito  [\"flour\",\"chocolate chips\",\"milk\",\"vanilla ext...   \n",
      "3  red velvet rauw  [\"flour\",\"cocoa powder\",\"butter\",\"red food col...   \n",
      "4  bad berry bunny           [\"flour\",\"blueberries\",\"sugar\",\"butter\"]   \n",
      "5     orange ozuna   [\"flour\",\"orange juice\",\"sugar\",\"vegetable oil\"]   \n",
      "6      minty miami          [\"flour\",\"mint extract\",\"sugar\",\"butter\"]   \n",
      "7        chocolate       [\"flour\",\"chocolate chips\",\"sugar\",\"butter\"]   \n",
      "8     laddoo lemon             [\"flour\",\"lemon juice\",\"sugar\",\"ghee\"]   \n",
      "9      minty miami          [\"flour\",\"mint extract\",\"sugar\",\"butter\"]   \n",
      "\n",
      "   calories  radius  cost_to_make  \n",
      "0       170   3.102          0.67  \n",
      "1       198   3.780          1.07  \n",
      "2       224   4.069          1.04  \n",
      "3       198   3.780          1.07  \n",
      "4       191   4.148          1.39  \n",
      "5       162   3.241          1.15  \n",
      "6       204   3.964          0.84  \n",
      "7       243   3.684          1.17  \n",
      "8       178   3.989           NaN  \n",
      "9       184   3.743          0.74  \n"
     ]
    }
   ],
   "source": [
    "#TODO: print the head of the dataframe\n",
    "print(cookies.head(10))"
   ]
  },
  {
   "attachments": {},
   "cell_type": "markdown",
   "metadata": {},
   "source": [
    "### Checking data types\n",
    "You can check the data types of each column using the `dtypes` attribute of the DataFrame."
   ]
  },
  {
   "cell_type": "code",
   "execution_count": 40,
   "metadata": {},
   "outputs": [
    {
     "name": "stdout",
     "output_type": "stream",
     "text": [
      "cookie           object\n",
      "ingredients      object\n",
      "calories          int64\n",
      "radius          float64\n",
      "cost_to_make    float64\n",
      "dtype: object\n"
     ]
    }
   ],
   "source": [
    "#TODO: check the data types of the columns\n",
    "print(cookies.dtypes)"
   ]
  },
  {
   "cell_type": "markdown",
   "metadata": {},
   "source": [
    "Now, lets use use `info()` function to get more information about the Dataframe"
   ]
  },
  {
   "cell_type": "code",
   "execution_count": 41,
   "metadata": {},
   "outputs": [
    {
     "name": "stdout",
     "output_type": "stream",
     "text": [
      "<class 'pandas.core.frame.DataFrame'>\n",
      "RangeIndex: 129 entries, 0 to 128\n",
      "Data columns (total 5 columns):\n",
      " #   Column        Non-Null Count  Dtype  \n",
      "---  ------        --------------  -----  \n",
      " 0   cookie        129 non-null    object \n",
      " 1   ingredients   129 non-null    object \n",
      " 2   calories      129 non-null    int64  \n",
      " 3   radius        129 non-null    float64\n",
      " 4   cost_to_make  114 non-null    float64\n",
      "dtypes: float64(2), int64(1), object(2)\n",
      "memory usage: 5.2+ KB\n",
      "None\n"
     ]
    }
   ],
   "source": [
    "# TODO: use info() to get information about datatypes and null values\n",
    "print(cookies.info())"
   ]
  },
  {
   "attachments": {},
   "cell_type": "markdown",
   "metadata": {},
   "source": [
    "### Cleaning the data\n",
    "Now that we have the data, we need to clean it. For example, some `cost_to_make` fields of some created cookies are missing. To resolve this, we can do many things: we can replace the missing data with the mean of the column, or we can get rid of the row entirely if the `cost_to_make` field is not set. "
   ]
  },
  {
   "cell_type": "code",
   "execution_count": 42,
   "metadata": {},
   "outputs": [
    {
     "name": "stdout",
     "output_type": "stream",
     "text": [
      "             cookie                                        ingredients  \\\n",
      "0      laddoo lemon             [\"flour\",\"lemon juice\",\"sugar\",\"ghee\"]   \n",
      "1   red velvet rauw  [\"flour\",\"cocoa powder\",\"butter\",\"red food col...   \n",
      "2          nevadito  [\"flour\",\"chocolate chips\",\"milk\",\"vanilla ext...   \n",
      "3   red velvet rauw  [\"flour\",\"cocoa powder\",\"butter\",\"red food col...   \n",
      "4   bad berry bunny           [\"flour\",\"blueberries\",\"sugar\",\"butter\"]   \n",
      "5      orange ozuna   [\"flour\",\"orange juice\",\"sugar\",\"vegetable oil\"]   \n",
      "6       minty miami          [\"flour\",\"mint extract\",\"sugar\",\"butter\"]   \n",
      "7         chocolate       [\"flour\",\"chocolate chips\",\"sugar\",\"butter\"]   \n",
      "9       minty miami          [\"flour\",\"mint extract\",\"sugar\",\"butter\"]   \n",
      "10         nevadito  [\"flour\",\"chocolate chips\",\"milk\",\"vanilla ext...   \n",
      "\n",
      "    calories  radius  cost_to_make  \n",
      "0        170   3.102          0.67  \n",
      "1        198   3.780          1.07  \n",
      "2        224   4.069          1.04  \n",
      "3        198   3.780          1.07  \n",
      "4        191   4.148          1.39  \n",
      "5        162   3.241          1.15  \n",
      "6        204   3.964          0.84  \n",
      "7        243   3.684          1.17  \n",
      "9        184   3.743          0.74  \n",
      "10       216   3.848          1.28  \n"
     ]
    }
   ],
   "source": [
    "#TODO: clean the dataframe and \n",
    "# print the head again to make sure \n",
    "# the changes took effect\n",
    "cookies = cookies.dropna(subset = [\"cost_to_make\"])\n",
    "print(cookies.head(10))"
   ]
  },
  {
   "attachments": {},
   "cell_type": "markdown",
   "metadata": {},
   "source": [
    "To also make sure we removed null values, we can check the number of null values in each column using the `isnull()` function."
   ]
  },
  {
   "cell_type": "code",
   "execution_count": 43,
   "metadata": {},
   "outputs": [
    {
     "name": "stdout",
     "output_type": "stream",
     "text": [
      "cookie          0\n",
      "ingredients     0\n",
      "calories        0\n",
      "radius          0\n",
      "cost_to_make    0\n",
      "dtype: int64\n"
     ]
    }
   ],
   "source": [
    "#TODO: use the isnull method to make sure your data is clean\n",
    "print(pd.isnull(cookies).sum())"
   ]
  },
  {
   "cell_type": "markdown",
   "metadata": {},
   "source": [
    "Next, lets check for duplicate rows using the `duplicated()` function. Then, remove those rows using `drop_duplicates()` function."
   ]
  },
  {
   "cell_type": "code",
   "execution_count": 44,
   "metadata": {},
   "outputs": [
    {
     "name": "stdout",
     "output_type": "stream",
     "text": [
      "0      False\n",
      "1      False\n",
      "2      False\n",
      "3       True\n",
      "4      False\n",
      "       ...  \n",
      "124     True\n",
      "125    False\n",
      "126    False\n",
      "127    False\n",
      "128     True\n",
      "Length: 114, dtype: bool\n",
      "             cookie                                        ingredients  \\\n",
      "0      laddoo lemon             [\"flour\",\"lemon juice\",\"sugar\",\"ghee\"]   \n",
      "1   red velvet rauw  [\"flour\",\"cocoa powder\",\"butter\",\"red food col...   \n",
      "2          nevadito  [\"flour\",\"chocolate chips\",\"milk\",\"vanilla ext...   \n",
      "4   bad berry bunny           [\"flour\",\"blueberries\",\"sugar\",\"butter\"]   \n",
      "5      orange ozuna   [\"flour\",\"orange juice\",\"sugar\",\"vegetable oil\"]   \n",
      "6       minty miami          [\"flour\",\"mint extract\",\"sugar\",\"butter\"]   \n",
      "7         chocolate       [\"flour\",\"chocolate chips\",\"sugar\",\"butter\"]   \n",
      "9       minty miami          [\"flour\",\"mint extract\",\"sugar\",\"butter\"]   \n",
      "10         nevadito  [\"flour\",\"chocolate chips\",\"milk\",\"vanilla ext...   \n",
      "11  red velvet rauw  [\"flour\",\"cocoa powder\",\"butter\",\"red food col...   \n",
      "\n",
      "    calories  radius  cost_to_make  \n",
      "0        170   3.102          0.67  \n",
      "1        198   3.780          1.07  \n",
      "2        224   4.069          1.04  \n",
      "4        191   4.148          1.39  \n",
      "5        162   3.241          1.15  \n",
      "6        204   3.964          0.84  \n",
      "7        243   3.684          1.17  \n",
      "9        184   3.743          0.74  \n",
      "10       216   3.848          1.28  \n",
      "11       211   3.940          0.76  \n"
     ]
    }
   ],
   "source": [
    "# TODO: check for duplicate rows\n",
    "# then delete those rows form df\n",
    "print(cookies.duplicated())\n",
    "cookies = cookies.drop_duplicates()\n",
    "print(cookies.head(10))"
   ]
  },
  {
   "attachments": {},
   "cell_type": "markdown",
   "metadata": {},
   "source": [
    "### Parsing the data\n",
    "Now that we have the data, we could parse it to get the information we want. For example, we can check what types of cookies were made by using the `unique()` function on the `cookie` column."
   ]
  },
  {
   "cell_type": "code",
   "execution_count": 45,
   "metadata": {},
   "outputs": [
    {
     "name": "stdout",
     "output_type": "stream",
     "text": [
      "['laddoo lemon' 'red velvet rauw' 'nevadito' 'bad berry bunny'\n",
      " 'orange ozuna' 'minty miami' 'chocolate']\n"
     ]
    }
   ],
   "source": [
    "#TODO: see what cookies are in the dataset\n",
    "print(cookies.cookie.unique())"
   ]
  },
  {
   "attachments": {},
   "cell_type": "markdown",
   "metadata": {},
   "source": [
    "We can also check the number of cookies made by using the `value_counts()` function on the `cookie` column."
   ]
  },
  {
   "cell_type": "code",
   "execution_count": 46,
   "metadata": {},
   "outputs": [
    {
     "data": {
      "text/plain": [
       "cookie         \n",
       "red velvet rauw    17\n",
       "orange ozuna       16\n",
       "bad berry bunny    15\n",
       "minty miami        15\n",
       "nevadito           15\n",
       "laddoo lemon       13\n",
       "chocolate          12\n",
       "Name: count, dtype: int64"
      ]
     },
     "execution_count": 46,
     "metadata": {},
     "output_type": "execute_result"
    }
   ],
   "source": [
    "#TODO: use value_counts() to see how many \n",
    "# cookies of each type there are\n",
    "cookies.value_counts(subset = [\"cookie\"])"
   ]
  },
  {
   "attachments": {},
   "cell_type": "markdown",
   "metadata": {},
   "source": [
    "Or maybe we don't like how long the names of the cookies are, so we can shorten them by using the `replace()` function on the `cookie` column.\n",
    "\n",
    "For example, let's try changing `\"bad berry bunny\"` to `\"bbb\"`."
   ]
  },
  {
   "cell_type": "code",
   "execution_count": 51,
   "metadata": {},
   "outputs": [
    {
     "name": "stdout",
     "output_type": "stream",
     "text": [
      "             cookie                                        ingredients  \\\n",
      "0      laddoo lemon             [\"flour\",\"lemon juice\",\"sugar\",\"ghee\"]   \n",
      "1   red velvet rauw  [\"flour\",\"cocoa powder\",\"butter\",\"red food col...   \n",
      "2          nevadito  [\"flour\",\"chocolate chips\",\"milk\",\"vanilla ext...   \n",
      "4               bbb           [\"flour\",\"blueberries\",\"sugar\",\"butter\"]   \n",
      "5      orange_ozuna   [\"flour\",\"orange juice\",\"sugar\",\"vegetable oil\"]   \n",
      "6       minty miami          [\"flour\",\"mint extract\",\"sugar\",\"butter\"]   \n",
      "7         chocolate       [\"flour\",\"chocolate chips\",\"sugar\",\"butter\"]   \n",
      "9       minty miami          [\"flour\",\"mint extract\",\"sugar\",\"butter\"]   \n",
      "10         nevadito  [\"flour\",\"chocolate chips\",\"milk\",\"vanilla ext...   \n",
      "11  red velvet rauw  [\"flour\",\"cocoa powder\",\"butter\",\"red food col...   \n",
      "\n",
      "    calories  radius  cost_to_make  \n",
      "0        170   3.102          0.67  \n",
      "1        198   3.780          1.07  \n",
      "2        224   4.069          1.04  \n",
      "4        191   4.148          1.39  \n",
      "5        162   3.241          1.15  \n",
      "6        204   3.964          0.84  \n",
      "7        243   3.684          1.17  \n",
      "9        184   3.743          0.74  \n",
      "10       216   3.848          1.28  \n",
      "11       211   3.940          0.76  \n"
     ]
    }
   ],
   "source": [
    "#TODO: change bad berry bunny data elements to \"bbb\"\n",
    "cookies.replace({\"cookie\": \"bad berry bunny\"}, {\"cookie\": \"bbb\"})\n",
    "print(cookies.head(10))"
   ]
  },
  {
   "attachments": {},
   "cell_type": "markdown",
   "metadata": {},
   "source": [
    "We may even like the original names better, but we may want to get rid of the spaces. For example, we can change `\"orange ozuna\"` to `\"orange_ozuna\"`. Here, we will use the `str.replace()` function."
   ]
  },
  {
   "cell_type": "code",
   "execution_count": 52,
   "metadata": {},
   "outputs": [
    {
     "name": "stdout",
     "output_type": "stream",
     "text": [
      "             cookie                                        ingredients  \\\n",
      "0      laddoo lemon             [\"flour\",\"lemon juice\",\"sugar\",\"ghee\"]   \n",
      "1   red velvet rauw  [\"flour\",\"cocoa powder\",\"butter\",\"red food col...   \n",
      "2          nevadito  [\"flour\",\"chocolate chips\",\"milk\",\"vanilla ext...   \n",
      "4               bbb           [\"flour\",\"blueberries\",\"sugar\",\"butter\"]   \n",
      "5      orange_ozuna   [\"flour\",\"orange juice\",\"sugar\",\"vegetable oil\"]   \n",
      "6       minty miami          [\"flour\",\"mint extract\",\"sugar\",\"butter\"]   \n",
      "7         chocolate       [\"flour\",\"chocolate chips\",\"sugar\",\"butter\"]   \n",
      "9       minty miami          [\"flour\",\"mint extract\",\"sugar\",\"butter\"]   \n",
      "10         nevadito  [\"flour\",\"chocolate chips\",\"milk\",\"vanilla ext...   \n",
      "11  red velvet rauw  [\"flour\",\"cocoa powder\",\"butter\",\"red food col...   \n",
      "\n",
      "    calories  radius  cost_to_make  \n",
      "0        170   3.102          0.67  \n",
      "1        198   3.780          1.07  \n",
      "2        224   4.069          1.04  \n",
      "4        191   4.148          1.39  \n",
      "5        162   3.241          1.15  \n",
      "6        204   3.964          0.84  \n",
      "7        243   3.684          1.17  \n",
      "9        184   3.743          0.74  \n",
      "10       216   3.848          1.28  \n",
      "11       211   3.940          0.76  \n"
     ]
    }
   ],
   "source": [
    "#TODO: adjust orange ozuna as described\n",
    "cookies = cookies.replace(\"orange ozuna\", \"orange_ozuna\")\n",
    "print(cookies.head(10))"
   ]
  },
  {
   "attachments": {},
   "cell_type": "markdown",
   "metadata": {},
   "source": [
    "We may even just want to keep the first word of the cookie name. For example, we can change `\"orange_ozuna\"` to `\"orange\"`."
   ]
  },
  {
   "cell_type": "code",
   "execution_count": 53,
   "metadata": {},
   "outputs": [
    {
     "name": "stdout",
     "output_type": "stream",
     "text": [
      "       cookie                                        ingredients  calories  \\\n",
      "0      laddoo             [\"flour\",\"lemon juice\",\"sugar\",\"ghee\"]       170   \n",
      "1         red  [\"flour\",\"cocoa powder\",\"butter\",\"red food col...       198   \n",
      "2    nevadito  [\"flour\",\"chocolate chips\",\"milk\",\"vanilla ext...       224   \n",
      "4         bbb           [\"flour\",\"blueberries\",\"sugar\",\"butter\"]       191   \n",
      "5      orange   [\"flour\",\"orange juice\",\"sugar\",\"vegetable oil\"]       162   \n",
      "6       minty          [\"flour\",\"mint extract\",\"sugar\",\"butter\"]       204   \n",
      "7   chocolate       [\"flour\",\"chocolate chips\",\"sugar\",\"butter\"]       243   \n",
      "9       minty          [\"flour\",\"mint extract\",\"sugar\",\"butter\"]       184   \n",
      "10   nevadito  [\"flour\",\"chocolate chips\",\"milk\",\"vanilla ext...       216   \n",
      "11        red  [\"flour\",\"cocoa powder\",\"butter\",\"red food col...       211   \n",
      "\n",
      "    radius  cost_to_make  \n",
      "0    3.102          0.67  \n",
      "1    3.780          1.07  \n",
      "2    4.069          1.04  \n",
      "4    4.148          1.39  \n",
      "5    3.241          1.15  \n",
      "6    3.964          0.84  \n",
      "7    3.684          1.17  \n",
      "9    3.743          0.74  \n",
      "10   3.848          1.28  \n",
      "11   3.940          0.76  \n"
     ]
    }
   ],
   "source": [
    "#TODO: adjust all cookies so only the first word\n",
    "# is used as the cookie name\n",
    "cookies = cookies.replace(\"orange_ozuna\", \"orange\")\n",
    "cookies = cookies.replace(\"laddoo lemon\", \"laddoo\")\n",
    "cookies = cookies.replace(\"minty miami\", \"minty\")\n",
    "cookies = cookies.replace(\"red velvet rauw\", \"red\")\n",
    "print(cookies.head(10))"
   ]
  },
  {
   "attachments": {},
   "cell_type": "markdown",
   "metadata": {},
   "source": [
    "Another thing that may come to mind is that maybe getting flour could cost more money due to inflation, so we have to adjust our `cost_to_make` values. We can do this by using the `apply()` function on the `cost_to_make` column."
   ]
  },
  {
   "cell_type": "code",
   "execution_count": 57,
   "metadata": {},
   "outputs": [
    {
     "name": "stdout",
     "output_type": "stream",
     "text": [
      "       cookie                                        ingredients  calories  \\\n",
      "0      laddoo             [\"flour\",\"lemon juice\",\"sugar\",\"ghee\"]       170   \n",
      "1         red  [\"flour\",\"cocoa powder\",\"butter\",\"red food col...       198   \n",
      "2    nevadito  [\"flour\",\"chocolate chips\",\"milk\",\"vanilla ext...       224   \n",
      "4         bbb           [\"flour\",\"blueberries\",\"sugar\",\"butter\"]       191   \n",
      "5      orange   [\"flour\",\"orange juice\",\"sugar\",\"vegetable oil\"]       162   \n",
      "6       minty          [\"flour\",\"mint extract\",\"sugar\",\"butter\"]       204   \n",
      "7   chocolate       [\"flour\",\"chocolate chips\",\"sugar\",\"butter\"]       243   \n",
      "9       minty          [\"flour\",\"mint extract\",\"sugar\",\"butter\"]       184   \n",
      "10   nevadito  [\"flour\",\"chocolate chips\",\"milk\",\"vanilla ext...       216   \n",
      "11        red  [\"flour\",\"cocoa powder\",\"butter\",\"red food col...       211   \n",
      "\n",
      "    radius  cost_to_make  \n",
      "0    3.102          1.17  \n",
      "1    3.780          1.57  \n",
      "2    4.069          1.54  \n",
      "4    4.148          1.89  \n",
      "5    3.241          1.65  \n",
      "6    3.964          1.34  \n",
      "7    3.684          1.67  \n",
      "9    3.743          1.24  \n",
      "10   3.848          1.78  \n",
      "11   3.940          1.26  \n"
     ]
    }
   ],
   "source": [
    "#Don't edit this method\n",
    "def adjust_cost(cost):\n",
    "    return cost + 0.5\n",
    "\n",
    "#TODO: use apply() to adjust the cost_to_make column.\n",
    "cookies[\"cost_to_make\"] = cookies[\"cost_to_make\"].apply(adjust_cost)\n",
    "print(cookies.head(10))"
   ]
  },
  {
   "attachments": {},
   "cell_type": "markdown",
   "metadata": {},
   "source": [
    "And we can do a lot more things! We will see these concepts be used in the next homework assignment, along with a couple new ones to show you how powerful Pandas is."
   ]
  },
  {
   "attachments": {},
   "cell_type": "markdown",
   "metadata": {},
   "source": [
    "### More complicated operations: Grouping, Filtering, Aggregating"
   ]
  },
  {
   "cell_type": "markdown",
   "metadata": {},
   "source": [
    "Before trying out these complicated operations, lets first sort the sort the df by the radius of the cookies using the `sort_values()` function."
   ]
  },
  {
   "cell_type": "code",
   "execution_count": 73,
   "metadata": {},
   "outputs": [
    {
     "name": "stdout",
     "output_type": "stream",
     "text": [
      "        cookie                                        ingredients  calories  \\\n",
      "110        red  [\"flour\",\"cocoa powder\",\"butter\",\"red food col...       198   \n",
      "30         red  [\"flour\",\"cocoa powder\",\"butter\",\"red food col...       204   \n",
      "60      orange   [\"flour\",\"orange juice\",\"sugar\",\"vegetable oil\"]       186   \n",
      "49      laddoo             [\"flour\",\"lemon juice\",\"sugar\",\"ghee\"]       195   \n",
      "101     laddoo             [\"flour\",\"lemon juice\",\"sugar\",\"ghee\"]       178   \n",
      "97         red  [\"flour\",\"cocoa powder\",\"butter\",\"red food col...       191   \n",
      "87   chocolate       [\"flour\",\"chocolate chips\",\"sugar\",\"butter\"]       199   \n",
      "80   chocolate       [\"flour\",\"chocolate chips\",\"sugar\",\"butter\"]       197   \n",
      "72         red  [\"flour\",\"cocoa powder\",\"butter\",\"red food col...       196   \n",
      "88      laddoo             [\"flour\",\"lemon juice\",\"sugar\",\"ghee\"]       167   \n",
      "\n",
      "     radius  cost_to_make  \n",
      "110   4.930          1.55  \n",
      "30    4.667          1.90  \n",
      "60    4.573          1.56  \n",
      "49    4.562          1.12  \n",
      "101   4.519          1.91  \n",
      "97    4.475          1.74  \n",
      "87    4.474          1.64  \n",
      "80    4.461          2.17  \n",
      "72    4.425          1.37  \n",
      "88    4.401          1.74  \n"
     ]
    }
   ],
   "source": [
    "# TODO: sort the df using sort_values(by='Column', ascending=False)\n",
    "cookies.sort_values(by = \"radius\", ascending = False)"
   ]
  },
  {
   "attachments": {},
   "cell_type": "markdown",
   "metadata": {},
   "source": [
    "We may also want to group data by certain attributes. This can be done by using `groupby()`. This method takes in a column name, and groups the data by the values in that column. For example, we can group the data by the `cookie` column."
   ]
  },
  {
   "cell_type": "code",
   "execution_count": 68,
   "metadata": {},
   "outputs": [
    {
     "name": "stdout",
     "output_type": "stream",
     "text": [
      "    cookie                               ingredients  calories  radius  \\\n",
      "127    bbb  [\"flour\",\"blueberries\",\"sugar\",\"butter\"]       199   4.281   \n",
      "38     bbb  [\"flour\",\"blueberries\",\"sugar\",\"butter\"]       182   4.166   \n",
      "4      bbb  [\"flour\",\"blueberries\",\"sugar\",\"butter\"]       191   4.148   \n",
      "91     bbb  [\"flour\",\"blueberries\",\"sugar\",\"butter\"]       186   4.089   \n",
      "111    bbb  [\"flour\",\"blueberries\",\"sugar\",\"butter\"]       171   4.045   \n",
      "45     bbb  [\"flour\",\"blueberries\",\"sugar\",\"butter\"]       213   4.007   \n",
      "84     bbb  [\"flour\",\"blueberries\",\"sugar\",\"butter\"]       185   3.992   \n",
      "98     bbb  [\"flour\",\"blueberries\",\"sugar\",\"butter\"]       208   3.976   \n",
      "52     bbb  [\"flour\",\"blueberries\",\"sugar\",\"butter\"]       184   3.974   \n",
      "118    bbb  [\"flour\",\"blueberries\",\"sugar\",\"butter\"]       177   3.950   \n",
      "12     bbb  [\"flour\",\"blueberries\",\"sugar\",\"butter\"]       183   3.874   \n",
      "77     bbb  [\"flour\",\"blueberries\",\"sugar\",\"butter\"]       172   3.794   \n",
      "59     bbb  [\"flour\",\"blueberries\",\"sugar\",\"butter\"]       193   3.791   \n",
      "66     bbb  [\"flour\",\"blueberries\",\"sugar\",\"butter\"]       199   3.654   \n",
      "22     bbb  [\"flour\",\"blueberries\",\"sugar\",\"butter\"]       184   2.982   \n",
      "\n",
      "     cost_to_make  \n",
      "127          1.86  \n",
      "38           1.61  \n",
      "4            1.89  \n",
      "91           1.23  \n",
      "111          1.43  \n",
      "45           1.84  \n",
      "84           1.59  \n",
      "98           2.12  \n",
      "52           1.27  \n",
      "118          1.17  \n",
      "12           1.57  \n",
      "77           1.46  \n",
      "59           1.93  \n",
      "66           1.31  \n",
      "22           2.51  \n",
      "        cookie                                   ingredients  calories  \\\n",
      "87   chocolate  [\"flour\",\"chocolate chips\",\"sugar\",\"butter\"]       199   \n",
      "80   chocolate  [\"flour\",\"chocolate chips\",\"sugar\",\"butter\"]       197   \n",
      "62   chocolate  [\"flour\",\"chocolate chips\",\"sugar\",\"butter\"]       206   \n",
      "55   chocolate  [\"flour\",\"chocolate chips\",\"sugar\",\"butter\"]       229   \n",
      "48   chocolate  [\"flour\",\"chocolate chips\",\"sugar\",\"butter\"]       240   \n",
      "94   chocolate  [\"flour\",\"chocolate chips\",\"sugar\",\"butter\"]       243   \n",
      "107  chocolate  [\"flour\",\"chocolate chips\",\"sugar\",\"butter\"]       222   \n",
      "121  chocolate  [\"flour\",\"chocolate chips\",\"sugar\",\"butter\"]       227   \n",
      "114  chocolate  [\"flour\",\"chocolate chips\",\"sugar\",\"butter\"]       226   \n",
      "69   chocolate  [\"flour\",\"chocolate chips\",\"sugar\",\"butter\"]       216   \n",
      "7    chocolate  [\"flour\",\"chocolate chips\",\"sugar\",\"butter\"]       243   \n",
      "17   chocolate  [\"flour\",\"chocolate chips\",\"sugar\",\"butter\"]       209   \n",
      "\n",
      "     radius  cost_to_make  \n",
      "87    4.474          1.64  \n",
      "80    4.461          2.17  \n",
      "62    4.328          1.84  \n",
      "55    4.217          1.69  \n",
      "48    4.212          1.47  \n",
      "94    4.207          1.64  \n",
      "107   4.186          1.36  \n",
      "121   4.085          1.92  \n",
      "114   3.894          1.45  \n",
      "69    3.824          1.65  \n",
      "7     3.684          1.67  \n",
      "17    3.182          2.03  \n",
      "     cookie                             ingredients  calories  radius  \\\n",
      "49   laddoo  [\"flour\",\"lemon juice\",\"sugar\",\"ghee\"]       195   4.562   \n",
      "101  laddoo  [\"flour\",\"lemon juice\",\"sugar\",\"ghee\"]       178   4.519   \n",
      "88   laddoo  [\"flour\",\"lemon juice\",\"sugar\",\"ghee\"]       167   4.401   \n",
      "56   laddoo  [\"flour\",\"lemon juice\",\"sugar\",\"ghee\"]       165   4.123   \n",
      "42   laddoo  [\"flour\",\"lemon juice\",\"sugar\",\"ghee\"]       176   4.110   \n",
      "115  laddoo  [\"flour\",\"lemon juice\",\"sugar\",\"ghee\"]       180   4.077   \n",
      "122  laddoo  [\"flour\",\"lemon juice\",\"sugar\",\"ghee\"]       170   3.916   \n",
      "108  laddoo  [\"flour\",\"lemon juice\",\"sugar\",\"ghee\"]       161   3.656   \n",
      "95   laddoo  [\"flour\",\"lemon juice\",\"sugar\",\"ghee\"]       162   3.587   \n",
      "18   laddoo  [\"flour\",\"lemon juice\",\"sugar\",\"ghee\"]       167   3.548   \n",
      "35   laddoo  [\"flour\",\"lemon juice\",\"sugar\",\"ghee\"]       187   3.257   \n",
      "63   laddoo  [\"flour\",\"lemon juice\",\"sugar\",\"ghee\"]       189   3.179   \n",
      "0    laddoo  [\"flour\",\"lemon juice\",\"sugar\",\"ghee\"]       170   3.102   \n",
      "\n",
      "     cost_to_make  \n",
      "49           1.12  \n",
      "101          1.91  \n",
      "88           1.74  \n",
      "56           2.50  \n",
      "42           2.77  \n",
      "115          1.33  \n",
      "122          2.50  \n",
      "108          1.86  \n",
      "95           1.77  \n",
      "18           2.36  \n",
      "35           1.19  \n",
      "63           1.22  \n",
      "0            1.17  \n",
      "    cookie                                ingredients  calories  radius  \\\n",
      "47   minty  [\"flour\",\"mint extract\",\"sugar\",\"butter\"]       174   4.388   \n",
      "54   minty  [\"flour\",\"mint extract\",\"sugar\",\"butter\"]       205   4.218   \n",
      "61   minty  [\"flour\",\"mint extract\",\"sugar\",\"butter\"]       209   3.992   \n",
      "6    minty  [\"flour\",\"mint extract\",\"sugar\",\"butter\"]       204   3.964   \n",
      "79   minty  [\"flour\",\"mint extract\",\"sugar\",\"butter\"]       194   3.964   \n",
      "113  minty  [\"flour\",\"mint extract\",\"sugar\",\"butter\"]       179   3.950   \n",
      "40   minty  [\"flour\",\"mint extract\",\"sugar\",\"butter\"]       183   3.946   \n",
      "106  minty  [\"flour\",\"mint extract\",\"sugar\",\"butter\"]       181   3.794   \n",
      "14   minty  [\"flour\",\"mint extract\",\"sugar\",\"butter\"]       175   3.766   \n",
      "9    minty  [\"flour\",\"mint extract\",\"sugar\",\"butter\"]       184   3.743   \n",
      "75   minty  [\"flour\",\"mint extract\",\"sugar\",\"butter\"]       178   3.447   \n",
      "86   minty  [\"flour\",\"mint extract\",\"sugar\",\"butter\"]       184   3.333   \n",
      "68   minty  [\"flour\",\"mint extract\",\"sugar\",\"butter\"]       168   3.132   \n",
      "93   minty  [\"flour\",\"mint extract\",\"sugar\",\"butter\"]       198   3.128   \n",
      "32   minty  [\"flour\",\"mint extract\",\"sugar\",\"butter\"]       178   2.952   \n",
      "\n",
      "     cost_to_make  \n",
      "47           1.14  \n",
      "54           1.25  \n",
      "61           1.47  \n",
      "6            1.34  \n",
      "79           1.46  \n",
      "113          2.15  \n",
      "40           1.55  \n",
      "106          1.68  \n",
      "14           1.27  \n",
      "9            1.24  \n",
      "75           1.63  \n",
      "86           1.83  \n",
      "68           1.13  \n",
      "93           1.09  \n",
      "32           1.34  \n",
      "       cookie                                        ingredients  calories  \\\n",
      "29   nevadito  [\"flour\",\"chocolate chips\",\"milk\",\"vanilla ext...       219   \n",
      "64   nevadito  [\"flour\",\"chocolate chips\",\"milk\",\"vanilla ext...       211   \n",
      "36   nevadito  [\"flour\",\"chocolate chips\",\"milk\",\"vanilla ext...       211   \n",
      "71   nevadito  [\"flour\",\"chocolate chips\",\"milk\",\"vanilla ext...       214   \n",
      "2    nevadito  [\"flour\",\"chocolate chips\",\"milk\",\"vanilla ext...       224   \n",
      "82   nevadito  [\"flour\",\"chocolate chips\",\"milk\",\"vanilla ext...       253   \n",
      "19   nevadito  [\"flour\",\"chocolate chips\",\"milk\",\"vanilla ext...       236   \n",
      "125  nevadito  [\"flour\",\"chocolate chips\",\"milk\",\"vanilla ext...       211   \n",
      "50   nevadito  [\"flour\",\"chocolate chips\",\"milk\",\"vanilla ext...       220   \n",
      "10   nevadito  [\"flour\",\"chocolate chips\",\"milk\",\"vanilla ext...       216   \n",
      "89   nevadito  [\"flour\",\"chocolate chips\",\"milk\",\"vanilla ext...       249   \n",
      "102  nevadito  [\"flour\",\"chocolate chips\",\"milk\",\"vanilla ext...       229   \n",
      "96   nevadito  [\"flour\",\"chocolate chips\",\"milk\",\"vanilla ext...       230   \n",
      "43   nevadito  [\"flour\",\"chocolate chips\",\"milk\",\"vanilla ext...       205   \n",
      "57   nevadito  [\"flour\",\"chocolate chips\",\"milk\",\"vanilla ext...       208   \n",
      "\n",
      "     radius  cost_to_make  \n",
      "29    4.346          1.68  \n",
      "64    4.205          1.69  \n",
      "36    4.152          2.22  \n",
      "71    4.141          1.87  \n",
      "2     4.069          1.54  \n",
      "82    4.043          1.62  \n",
      "19    4.043          1.79  \n",
      "125   3.915          2.11  \n",
      "50    3.855          2.71  \n",
      "10    3.848          1.78  \n",
      "89    3.819          1.63  \n",
      "102   3.802          2.29  \n",
      "96    3.788          1.66  \n",
      "43    3.776          1.46  \n",
      "57    3.583          1.92  \n",
      "     cookie                                       ingredients  calories  \\\n",
      "60   orange  [\"flour\",\"orange juice\",\"sugar\",\"vegetable oil\"]       186   \n",
      "74   orange  [\"flour\",\"orange juice\",\"sugar\",\"vegetable oil\"]       161   \n",
      "67   orange  [\"flour\",\"orange juice\",\"sugar\",\"vegetable oil\"]       158   \n",
      "119  orange  [\"flour\",\"orange juice\",\"sugar\",\"vegetable oil\"]       153   \n",
      "23   orange  [\"flour\",\"orange juice\",\"sugar\",\"vegetable oil\"]       156   \n",
      "46   orange  [\"flour\",\"orange juice\",\"sugar\",\"vegetable oil\"]       183   \n",
      "39   orange  [\"flour\",\"orange juice\",\"sugar\",\"vegetable oil\"]       162   \n",
      "85   orange  [\"flour\",\"orange juice\",\"sugar\",\"vegetable oil\"]       158   \n",
      "53   orange  [\"flour\",\"orange juice\",\"sugar\",\"vegetable oil\"]       159   \n",
      "92   orange  [\"flour\",\"orange juice\",\"sugar\",\"vegetable oil\"]       156   \n",
      "31   orange  [\"flour\",\"orange juice\",\"sugar\",\"vegetable oil\"]       198   \n",
      "13   orange  [\"flour\",\"orange juice\",\"sugar\",\"vegetable oil\"]       159   \n",
      "99   orange  [\"flour\",\"orange juice\",\"sugar\",\"vegetable oil\"]       180   \n",
      "105  orange  [\"flour\",\"orange juice\",\"sugar\",\"vegetable oil\"]       179   \n",
      "5    orange  [\"flour\",\"orange juice\",\"sugar\",\"vegetable oil\"]       162   \n",
      "78   orange  [\"flour\",\"orange juice\",\"sugar\",\"vegetable oil\"]       166   \n",
      "\n",
      "     radius  cost_to_make  \n",
      "60    4.573          1.56  \n",
      "74    4.147          2.13  \n",
      "67    4.003          1.50  \n",
      "119   3.794          1.10  \n",
      "23    3.765          2.13  \n",
      "46    3.627          1.91  \n",
      "39    3.498          1.68  \n",
      "85    3.467          1.94  \n",
      "53    3.462          1.51  \n",
      "92    3.451          2.13  \n",
      "31    3.448          1.18  \n",
      "13    3.429          2.59  \n",
      "99    3.252          1.15  \n",
      "105   3.246          1.98  \n",
      "5     3.241          1.65  \n",
      "78    1.695          1.32  \n",
      "    cookie                                        ingredients  calories  \\\n",
      "110    red  [\"flour\",\"cocoa powder\",\"butter\",\"red food col...       198   \n",
      "30     red  [\"flour\",\"cocoa powder\",\"butter\",\"red food col...       204   \n",
      "97     red  [\"flour\",\"cocoa powder\",\"butter\",\"red food col...       191   \n",
      "72     red  [\"flour\",\"cocoa powder\",\"butter\",\"red food col...       196   \n",
      "76     red  [\"flour\",\"cocoa powder\",\"butter\",\"red food col...       206   \n",
      "117    red  [\"flour\",\"cocoa powder\",\"butter\",\"red food col...       206   \n",
      "21     red  [\"flour\",\"cocoa powder\",\"butter\",\"red food col...       202   \n",
      "44     red  [\"flour\",\"cocoa powder\",\"butter\",\"red food col...       203   \n",
      "58     red  [\"flour\",\"cocoa powder\",\"butter\",\"red food col...       203   \n",
      "83     red  [\"flour\",\"cocoa powder\",\"butter\",\"red food col...       198   \n",
      "11     red  [\"flour\",\"cocoa powder\",\"butter\",\"red food col...       211   \n",
      "126    red  [\"flour\",\"cocoa powder\",\"butter\",\"red food col...       197   \n",
      "65     red  [\"flour\",\"cocoa powder\",\"butter\",\"red food col...       211   \n",
      "1      red  [\"flour\",\"cocoa powder\",\"butter\",\"red food col...       198   \n",
      "103    red  [\"flour\",\"cocoa powder\",\"butter\",\"red food col...       193   \n",
      "51     red  [\"flour\",\"cocoa powder\",\"butter\",\"red food col...       193   \n",
      "37     red  [\"flour\",\"cocoa powder\",\"butter\",\"red food col...       193   \n",
      "\n",
      "     radius  cost_to_make  \n",
      "110   4.930          1.55  \n",
      "30    4.667          1.90  \n",
      "97    4.475          1.74  \n",
      "72    4.425          1.37  \n",
      "76    4.319          1.74  \n",
      "117   4.297          1.23  \n",
      "21    4.289          1.73  \n",
      "44    4.272          2.44  \n",
      "58    4.112          1.41  \n",
      "83    3.960          1.29  \n",
      "11    3.940          1.26  \n",
      "126   3.906          1.83  \n",
      "65    3.873          2.14  \n",
      "1     3.780          1.57  \n",
      "103   3.732          1.66  \n",
      "51    3.661          2.09  \n",
      "37    3.172          1.47  \n"
     ]
    },
    {
     "data": {
      "text/html": [
       "<div>\n",
       "<style scoped>\n",
       "    .dataframe tbody tr th:only-of-type {\n",
       "        vertical-align: middle;\n",
       "    }\n",
       "\n",
       "    .dataframe tbody tr th {\n",
       "        vertical-align: top;\n",
       "    }\n",
       "\n",
       "    .dataframe thead th {\n",
       "        text-align: right;\n",
       "    }\n",
       "</style>\n",
       "<table border=\"1\" class=\"dataframe\">\n",
       "  <thead>\n",
       "    <tr style=\"text-align: right;\">\n",
       "      <th></th>\n",
       "    </tr>\n",
       "  </thead>\n",
       "  <tbody>\n",
       "  </tbody>\n",
       "</table>\n",
       "</div>"
      ],
      "text/plain": [
       "Empty DataFrame\n",
       "Columns: []\n",
       "Index: []"
      ]
     },
     "execution_count": 68,
     "metadata": {},
     "output_type": "execute_result"
    }
   ],
   "source": [
    "#TODO: group by cookie type\n",
    "cookies.groupby([\"cookie\"]).apply(print)"
   ]
  },
  {
   "attachments": {},
   "cell_type": "markdown",
   "metadata": {},
   "source": [
    "We can also group by multiple columns. For example, we can group the data by the `cookie` and `ingredients` columns."
   ]
  },
  {
   "cell_type": "code",
   "execution_count": 71,
   "metadata": {},
   "outputs": [
    {
     "name": "stdout",
     "output_type": "stream",
     "text": [
      "    cookie                               ingredients  calories  radius  \\\n",
      "127    bbb  [\"flour\",\"blueberries\",\"sugar\",\"butter\"]       199   4.281   \n",
      "38     bbb  [\"flour\",\"blueberries\",\"sugar\",\"butter\"]       182   4.166   \n",
      "4      bbb  [\"flour\",\"blueberries\",\"sugar\",\"butter\"]       191   4.148   \n",
      "91     bbb  [\"flour\",\"blueberries\",\"sugar\",\"butter\"]       186   4.089   \n",
      "111    bbb  [\"flour\",\"blueberries\",\"sugar\",\"butter\"]       171   4.045   \n",
      "45     bbb  [\"flour\",\"blueberries\",\"sugar\",\"butter\"]       213   4.007   \n",
      "84     bbb  [\"flour\",\"blueberries\",\"sugar\",\"butter\"]       185   3.992   \n",
      "98     bbb  [\"flour\",\"blueberries\",\"sugar\",\"butter\"]       208   3.976   \n",
      "52     bbb  [\"flour\",\"blueberries\",\"sugar\",\"butter\"]       184   3.974   \n",
      "118    bbb  [\"flour\",\"blueberries\",\"sugar\",\"butter\"]       177   3.950   \n",
      "12     bbb  [\"flour\",\"blueberries\",\"sugar\",\"butter\"]       183   3.874   \n",
      "77     bbb  [\"flour\",\"blueberries\",\"sugar\",\"butter\"]       172   3.794   \n",
      "59     bbb  [\"flour\",\"blueberries\",\"sugar\",\"butter\"]       193   3.791   \n",
      "66     bbb  [\"flour\",\"blueberries\",\"sugar\",\"butter\"]       199   3.654   \n",
      "22     bbb  [\"flour\",\"blueberries\",\"sugar\",\"butter\"]       184   2.982   \n",
      "\n",
      "     cost_to_make  \n",
      "127          1.86  \n",
      "38           1.61  \n",
      "4            1.89  \n",
      "91           1.23  \n",
      "111          1.43  \n",
      "45           1.84  \n",
      "84           1.59  \n",
      "98           2.12  \n",
      "52           1.27  \n",
      "118          1.17  \n",
      "12           1.57  \n",
      "77           1.46  \n",
      "59           1.93  \n",
      "66           1.31  \n",
      "22           2.51  \n",
      "        cookie                                   ingredients  calories  \\\n",
      "87   chocolate  [\"flour\",\"chocolate chips\",\"sugar\",\"butter\"]       199   \n",
      "80   chocolate  [\"flour\",\"chocolate chips\",\"sugar\",\"butter\"]       197   \n",
      "62   chocolate  [\"flour\",\"chocolate chips\",\"sugar\",\"butter\"]       206   \n",
      "55   chocolate  [\"flour\",\"chocolate chips\",\"sugar\",\"butter\"]       229   \n",
      "48   chocolate  [\"flour\",\"chocolate chips\",\"sugar\",\"butter\"]       240   \n",
      "94   chocolate  [\"flour\",\"chocolate chips\",\"sugar\",\"butter\"]       243   \n",
      "107  chocolate  [\"flour\",\"chocolate chips\",\"sugar\",\"butter\"]       222   \n",
      "121  chocolate  [\"flour\",\"chocolate chips\",\"sugar\",\"butter\"]       227   \n",
      "114  chocolate  [\"flour\",\"chocolate chips\",\"sugar\",\"butter\"]       226   \n",
      "69   chocolate  [\"flour\",\"chocolate chips\",\"sugar\",\"butter\"]       216   \n",
      "7    chocolate  [\"flour\",\"chocolate chips\",\"sugar\",\"butter\"]       243   \n",
      "17   chocolate  [\"flour\",\"chocolate chips\",\"sugar\",\"butter\"]       209   \n",
      "\n",
      "     radius  cost_to_make  \n",
      "87    4.474          1.64  \n",
      "80    4.461          2.17  \n",
      "62    4.328          1.84  \n",
      "55    4.217          1.69  \n",
      "48    4.212          1.47  \n",
      "94    4.207          1.64  \n",
      "107   4.186          1.36  \n",
      "121   4.085          1.92  \n",
      "114   3.894          1.45  \n",
      "69    3.824          1.65  \n",
      "7     3.684          1.67  \n",
      "17    3.182          2.03  \n",
      "     cookie                             ingredients  calories  radius  \\\n",
      "49   laddoo  [\"flour\",\"lemon juice\",\"sugar\",\"ghee\"]       195   4.562   \n",
      "101  laddoo  [\"flour\",\"lemon juice\",\"sugar\",\"ghee\"]       178   4.519   \n",
      "88   laddoo  [\"flour\",\"lemon juice\",\"sugar\",\"ghee\"]       167   4.401   \n",
      "56   laddoo  [\"flour\",\"lemon juice\",\"sugar\",\"ghee\"]       165   4.123   \n",
      "42   laddoo  [\"flour\",\"lemon juice\",\"sugar\",\"ghee\"]       176   4.110   \n",
      "115  laddoo  [\"flour\",\"lemon juice\",\"sugar\",\"ghee\"]       180   4.077   \n",
      "122  laddoo  [\"flour\",\"lemon juice\",\"sugar\",\"ghee\"]       170   3.916   \n",
      "108  laddoo  [\"flour\",\"lemon juice\",\"sugar\",\"ghee\"]       161   3.656   \n",
      "95   laddoo  [\"flour\",\"lemon juice\",\"sugar\",\"ghee\"]       162   3.587   \n",
      "18   laddoo  [\"flour\",\"lemon juice\",\"sugar\",\"ghee\"]       167   3.548   \n",
      "35   laddoo  [\"flour\",\"lemon juice\",\"sugar\",\"ghee\"]       187   3.257   \n",
      "63   laddoo  [\"flour\",\"lemon juice\",\"sugar\",\"ghee\"]       189   3.179   \n",
      "0    laddoo  [\"flour\",\"lemon juice\",\"sugar\",\"ghee\"]       170   3.102   \n",
      "\n",
      "     cost_to_make  \n",
      "49           1.12  \n",
      "101          1.91  \n",
      "88           1.74  \n",
      "56           2.50  \n",
      "42           2.77  \n",
      "115          1.33  \n",
      "122          2.50  \n",
      "108          1.86  \n",
      "95           1.77  \n",
      "18           2.36  \n",
      "35           1.19  \n",
      "63           1.22  \n",
      "0            1.17  \n",
      "    cookie                                ingredients  calories  radius  \\\n",
      "47   minty  [\"flour\",\"mint extract\",\"sugar\",\"butter\"]       174   4.388   \n",
      "54   minty  [\"flour\",\"mint extract\",\"sugar\",\"butter\"]       205   4.218   \n",
      "61   minty  [\"flour\",\"mint extract\",\"sugar\",\"butter\"]       209   3.992   \n",
      "6    minty  [\"flour\",\"mint extract\",\"sugar\",\"butter\"]       204   3.964   \n",
      "79   minty  [\"flour\",\"mint extract\",\"sugar\",\"butter\"]       194   3.964   \n",
      "113  minty  [\"flour\",\"mint extract\",\"sugar\",\"butter\"]       179   3.950   \n",
      "40   minty  [\"flour\",\"mint extract\",\"sugar\",\"butter\"]       183   3.946   \n",
      "106  minty  [\"flour\",\"mint extract\",\"sugar\",\"butter\"]       181   3.794   \n",
      "14   minty  [\"flour\",\"mint extract\",\"sugar\",\"butter\"]       175   3.766   \n",
      "9    minty  [\"flour\",\"mint extract\",\"sugar\",\"butter\"]       184   3.743   \n",
      "75   minty  [\"flour\",\"mint extract\",\"sugar\",\"butter\"]       178   3.447   \n",
      "86   minty  [\"flour\",\"mint extract\",\"sugar\",\"butter\"]       184   3.333   \n",
      "68   minty  [\"flour\",\"mint extract\",\"sugar\",\"butter\"]       168   3.132   \n",
      "93   minty  [\"flour\",\"mint extract\",\"sugar\",\"butter\"]       198   3.128   \n",
      "32   minty  [\"flour\",\"mint extract\",\"sugar\",\"butter\"]       178   2.952   \n",
      "\n",
      "     cost_to_make  \n",
      "47           1.14  \n",
      "54           1.25  \n",
      "61           1.47  \n",
      "6            1.34  \n",
      "79           1.46  \n",
      "113          2.15  \n",
      "40           1.55  \n",
      "106          1.68  \n",
      "14           1.27  \n",
      "9            1.24  \n",
      "75           1.63  \n",
      "86           1.83  \n",
      "68           1.13  \n",
      "93           1.09  \n",
      "32           1.34  \n",
      "       cookie                                        ingredients  calories  \\\n",
      "29   nevadito  [\"flour\",\"chocolate chips\",\"milk\",\"vanilla ext...       219   \n",
      "64   nevadito  [\"flour\",\"chocolate chips\",\"milk\",\"vanilla ext...       211   \n",
      "36   nevadito  [\"flour\",\"chocolate chips\",\"milk\",\"vanilla ext...       211   \n",
      "71   nevadito  [\"flour\",\"chocolate chips\",\"milk\",\"vanilla ext...       214   \n",
      "2    nevadito  [\"flour\",\"chocolate chips\",\"milk\",\"vanilla ext...       224   \n",
      "82   nevadito  [\"flour\",\"chocolate chips\",\"milk\",\"vanilla ext...       253   \n",
      "19   nevadito  [\"flour\",\"chocolate chips\",\"milk\",\"vanilla ext...       236   \n",
      "125  nevadito  [\"flour\",\"chocolate chips\",\"milk\",\"vanilla ext...       211   \n",
      "50   nevadito  [\"flour\",\"chocolate chips\",\"milk\",\"vanilla ext...       220   \n",
      "10   nevadito  [\"flour\",\"chocolate chips\",\"milk\",\"vanilla ext...       216   \n",
      "89   nevadito  [\"flour\",\"chocolate chips\",\"milk\",\"vanilla ext...       249   \n",
      "102  nevadito  [\"flour\",\"chocolate chips\",\"milk\",\"vanilla ext...       229   \n",
      "96   nevadito  [\"flour\",\"chocolate chips\",\"milk\",\"vanilla ext...       230   \n",
      "43   nevadito  [\"flour\",\"chocolate chips\",\"milk\",\"vanilla ext...       205   \n",
      "57   nevadito  [\"flour\",\"chocolate chips\",\"milk\",\"vanilla ext...       208   \n",
      "\n",
      "     radius  cost_to_make  \n",
      "29    4.346          1.68  \n",
      "64    4.205          1.69  \n",
      "36    4.152          2.22  \n",
      "71    4.141          1.87  \n",
      "2     4.069          1.54  \n",
      "82    4.043          1.62  \n",
      "19    4.043          1.79  \n",
      "125   3.915          2.11  \n",
      "50    3.855          2.71  \n",
      "10    3.848          1.78  \n",
      "89    3.819          1.63  \n",
      "102   3.802          2.29  \n",
      "96    3.788          1.66  \n",
      "43    3.776          1.46  \n",
      "57    3.583          1.92  \n",
      "     cookie                                       ingredients  calories  \\\n",
      "60   orange  [\"flour\",\"orange juice\",\"sugar\",\"vegetable oil\"]       186   \n",
      "74   orange  [\"flour\",\"orange juice\",\"sugar\",\"vegetable oil\"]       161   \n",
      "67   orange  [\"flour\",\"orange juice\",\"sugar\",\"vegetable oil\"]       158   \n",
      "119  orange  [\"flour\",\"orange juice\",\"sugar\",\"vegetable oil\"]       153   \n",
      "23   orange  [\"flour\",\"orange juice\",\"sugar\",\"vegetable oil\"]       156   \n",
      "46   orange  [\"flour\",\"orange juice\",\"sugar\",\"vegetable oil\"]       183   \n",
      "39   orange  [\"flour\",\"orange juice\",\"sugar\",\"vegetable oil\"]       162   \n",
      "85   orange  [\"flour\",\"orange juice\",\"sugar\",\"vegetable oil\"]       158   \n",
      "53   orange  [\"flour\",\"orange juice\",\"sugar\",\"vegetable oil\"]       159   \n",
      "92   orange  [\"flour\",\"orange juice\",\"sugar\",\"vegetable oil\"]       156   \n",
      "31   orange  [\"flour\",\"orange juice\",\"sugar\",\"vegetable oil\"]       198   \n",
      "13   orange  [\"flour\",\"orange juice\",\"sugar\",\"vegetable oil\"]       159   \n",
      "99   orange  [\"flour\",\"orange juice\",\"sugar\",\"vegetable oil\"]       180   \n",
      "105  orange  [\"flour\",\"orange juice\",\"sugar\",\"vegetable oil\"]       179   \n",
      "5    orange  [\"flour\",\"orange juice\",\"sugar\",\"vegetable oil\"]       162   \n",
      "78   orange  [\"flour\",\"orange juice\",\"sugar\",\"vegetable oil\"]       166   \n",
      "\n",
      "     radius  cost_to_make  \n",
      "60    4.573          1.56  \n",
      "74    4.147          2.13  \n",
      "67    4.003          1.50  \n",
      "119   3.794          1.10  \n",
      "23    3.765          2.13  \n",
      "46    3.627          1.91  \n",
      "39    3.498          1.68  \n",
      "85    3.467          1.94  \n",
      "53    3.462          1.51  \n",
      "92    3.451          2.13  \n",
      "31    3.448          1.18  \n",
      "13    3.429          2.59  \n",
      "99    3.252          1.15  \n",
      "105   3.246          1.98  \n",
      "5     3.241          1.65  \n",
      "78    1.695          1.32  \n",
      "    cookie                                        ingredients  calories  \\\n",
      "110    red  [\"flour\",\"cocoa powder\",\"butter\",\"red food col...       198   \n",
      "30     red  [\"flour\",\"cocoa powder\",\"butter\",\"red food col...       204   \n",
      "97     red  [\"flour\",\"cocoa powder\",\"butter\",\"red food col...       191   \n",
      "72     red  [\"flour\",\"cocoa powder\",\"butter\",\"red food col...       196   \n",
      "76     red  [\"flour\",\"cocoa powder\",\"butter\",\"red food col...       206   \n",
      "117    red  [\"flour\",\"cocoa powder\",\"butter\",\"red food col...       206   \n",
      "21     red  [\"flour\",\"cocoa powder\",\"butter\",\"red food col...       202   \n",
      "44     red  [\"flour\",\"cocoa powder\",\"butter\",\"red food col...       203   \n",
      "58     red  [\"flour\",\"cocoa powder\",\"butter\",\"red food col...       203   \n",
      "83     red  [\"flour\",\"cocoa powder\",\"butter\",\"red food col...       198   \n",
      "11     red  [\"flour\",\"cocoa powder\",\"butter\",\"red food col...       211   \n",
      "126    red  [\"flour\",\"cocoa powder\",\"butter\",\"red food col...       197   \n",
      "65     red  [\"flour\",\"cocoa powder\",\"butter\",\"red food col...       211   \n",
      "1      red  [\"flour\",\"cocoa powder\",\"butter\",\"red food col...       198   \n",
      "103    red  [\"flour\",\"cocoa powder\",\"butter\",\"red food col...       193   \n",
      "51     red  [\"flour\",\"cocoa powder\",\"butter\",\"red food col...       193   \n",
      "37     red  [\"flour\",\"cocoa powder\",\"butter\",\"red food col...       193   \n",
      "\n",
      "     radius  cost_to_make  \n",
      "110   4.930          1.55  \n",
      "30    4.667          1.90  \n",
      "97    4.475          1.74  \n",
      "72    4.425          1.37  \n",
      "76    4.319          1.74  \n",
      "117   4.297          1.23  \n",
      "21    4.289          1.73  \n",
      "44    4.272          2.44  \n",
      "58    4.112          1.41  \n",
      "83    3.960          1.29  \n",
      "11    3.940          1.26  \n",
      "126   3.906          1.83  \n",
      "65    3.873          2.14  \n",
      "1     3.780          1.57  \n",
      "103   3.732          1.66  \n",
      "51    3.661          2.09  \n",
      "37    3.172          1.47  \n"
     ]
    },
    {
     "data": {
      "text/html": [
       "<div>\n",
       "<style scoped>\n",
       "    .dataframe tbody tr th:only-of-type {\n",
       "        vertical-align: middle;\n",
       "    }\n",
       "\n",
       "    .dataframe tbody tr th {\n",
       "        vertical-align: top;\n",
       "    }\n",
       "\n",
       "    .dataframe thead th {\n",
       "        text-align: right;\n",
       "    }\n",
       "</style>\n",
       "<table border=\"1\" class=\"dataframe\">\n",
       "  <thead>\n",
       "    <tr style=\"text-align: right;\">\n",
       "      <th></th>\n",
       "    </tr>\n",
       "  </thead>\n",
       "  <tbody>\n",
       "  </tbody>\n",
       "</table>\n",
       "</div>"
      ],
      "text/plain": [
       "Empty DataFrame\n",
       "Columns: []\n",
       "Index: []"
      ]
     },
     "execution_count": 71,
     "metadata": {},
     "output_type": "execute_result"
    }
   ],
   "source": [
    "#TODO: group by cookie type and ingredients\n",
    "cookies.groupby([\"cookie\", \"ingredients\"]).apply(print)"
   ]
  },
  {
   "attachments": {},
   "cell_type": "markdown",
   "metadata": {},
   "source": [
    "We may also want to filter the data. For example, we can filter the data to only show the cookies that have a radius greater than 4.3 cm. We can do this by indexing the DataFrame with a boolean expression."
   ]
  },
  {
   "cell_type": "code",
   "execution_count": 72,
   "metadata": {},
   "outputs": [
    {
     "data": {
      "text/html": [
       "<div>\n",
       "<style scoped>\n",
       "    .dataframe tbody tr th:only-of-type {\n",
       "        vertical-align: middle;\n",
       "    }\n",
       "\n",
       "    .dataframe tbody tr th {\n",
       "        vertical-align: top;\n",
       "    }\n",
       "\n",
       "    .dataframe thead th {\n",
       "        text-align: right;\n",
       "    }\n",
       "</style>\n",
       "<table border=\"1\" class=\"dataframe\">\n",
       "  <thead>\n",
       "    <tr style=\"text-align: right;\">\n",
       "      <th></th>\n",
       "      <th>cookie</th>\n",
       "      <th>ingredients</th>\n",
       "      <th>calories</th>\n",
       "      <th>radius</th>\n",
       "      <th>cost_to_make</th>\n",
       "    </tr>\n",
       "  </thead>\n",
       "  <tbody>\n",
       "    <tr>\n",
       "      <th>110</th>\n",
       "      <td>red</td>\n",
       "      <td>[\"flour\",\"cocoa powder\",\"butter\",\"red food col...</td>\n",
       "      <td>198</td>\n",
       "      <td>4.930</td>\n",
       "      <td>1.55</td>\n",
       "    </tr>\n",
       "    <tr>\n",
       "      <th>30</th>\n",
       "      <td>red</td>\n",
       "      <td>[\"flour\",\"cocoa powder\",\"butter\",\"red food col...</td>\n",
       "      <td>204</td>\n",
       "      <td>4.667</td>\n",
       "      <td>1.90</td>\n",
       "    </tr>\n",
       "    <tr>\n",
       "      <th>60</th>\n",
       "      <td>orange</td>\n",
       "      <td>[\"flour\",\"orange juice\",\"sugar\",\"vegetable oil\"]</td>\n",
       "      <td>186</td>\n",
       "      <td>4.573</td>\n",
       "      <td>1.56</td>\n",
       "    </tr>\n",
       "    <tr>\n",
       "      <th>49</th>\n",
       "      <td>laddoo</td>\n",
       "      <td>[\"flour\",\"lemon juice\",\"sugar\",\"ghee\"]</td>\n",
       "      <td>195</td>\n",
       "      <td>4.562</td>\n",
       "      <td>1.12</td>\n",
       "    </tr>\n",
       "    <tr>\n",
       "      <th>101</th>\n",
       "      <td>laddoo</td>\n",
       "      <td>[\"flour\",\"lemon juice\",\"sugar\",\"ghee\"]</td>\n",
       "      <td>178</td>\n",
       "      <td>4.519</td>\n",
       "      <td>1.91</td>\n",
       "    </tr>\n",
       "    <tr>\n",
       "      <th>97</th>\n",
       "      <td>red</td>\n",
       "      <td>[\"flour\",\"cocoa powder\",\"butter\",\"red food col...</td>\n",
       "      <td>191</td>\n",
       "      <td>4.475</td>\n",
       "      <td>1.74</td>\n",
       "    </tr>\n",
       "    <tr>\n",
       "      <th>87</th>\n",
       "      <td>chocolate</td>\n",
       "      <td>[\"flour\",\"chocolate chips\",\"sugar\",\"butter\"]</td>\n",
       "      <td>199</td>\n",
       "      <td>4.474</td>\n",
       "      <td>1.64</td>\n",
       "    </tr>\n",
       "    <tr>\n",
       "      <th>80</th>\n",
       "      <td>chocolate</td>\n",
       "      <td>[\"flour\",\"chocolate chips\",\"sugar\",\"butter\"]</td>\n",
       "      <td>197</td>\n",
       "      <td>4.461</td>\n",
       "      <td>2.17</td>\n",
       "    </tr>\n",
       "    <tr>\n",
       "      <th>72</th>\n",
       "      <td>red</td>\n",
       "      <td>[\"flour\",\"cocoa powder\",\"butter\",\"red food col...</td>\n",
       "      <td>196</td>\n",
       "      <td>4.425</td>\n",
       "      <td>1.37</td>\n",
       "    </tr>\n",
       "    <tr>\n",
       "      <th>88</th>\n",
       "      <td>laddoo</td>\n",
       "      <td>[\"flour\",\"lemon juice\",\"sugar\",\"ghee\"]</td>\n",
       "      <td>167</td>\n",
       "      <td>4.401</td>\n",
       "      <td>1.74</td>\n",
       "    </tr>\n",
       "    <tr>\n",
       "      <th>47</th>\n",
       "      <td>minty</td>\n",
       "      <td>[\"flour\",\"mint extract\",\"sugar\",\"butter\"]</td>\n",
       "      <td>174</td>\n",
       "      <td>4.388</td>\n",
       "      <td>1.14</td>\n",
       "    </tr>\n",
       "    <tr>\n",
       "      <th>29</th>\n",
       "      <td>nevadito</td>\n",
       "      <td>[\"flour\",\"chocolate chips\",\"milk\",\"vanilla ext...</td>\n",
       "      <td>219</td>\n",
       "      <td>4.346</td>\n",
       "      <td>1.68</td>\n",
       "    </tr>\n",
       "    <tr>\n",
       "      <th>62</th>\n",
       "      <td>chocolate</td>\n",
       "      <td>[\"flour\",\"chocolate chips\",\"sugar\",\"butter\"]</td>\n",
       "      <td>206</td>\n",
       "      <td>4.328</td>\n",
       "      <td>1.84</td>\n",
       "    </tr>\n",
       "    <tr>\n",
       "      <th>76</th>\n",
       "      <td>red</td>\n",
       "      <td>[\"flour\",\"cocoa powder\",\"butter\",\"red food col...</td>\n",
       "      <td>206</td>\n",
       "      <td>4.319</td>\n",
       "      <td>1.74</td>\n",
       "    </tr>\n",
       "  </tbody>\n",
       "</table>\n",
       "</div>"
      ],
      "text/plain": [
       "        cookie                                        ingredients  calories  \\\n",
       "110        red  [\"flour\",\"cocoa powder\",\"butter\",\"red food col...       198   \n",
       "30         red  [\"flour\",\"cocoa powder\",\"butter\",\"red food col...       204   \n",
       "60      orange   [\"flour\",\"orange juice\",\"sugar\",\"vegetable oil\"]       186   \n",
       "49      laddoo             [\"flour\",\"lemon juice\",\"sugar\",\"ghee\"]       195   \n",
       "101     laddoo             [\"flour\",\"lemon juice\",\"sugar\",\"ghee\"]       178   \n",
       "97         red  [\"flour\",\"cocoa powder\",\"butter\",\"red food col...       191   \n",
       "87   chocolate       [\"flour\",\"chocolate chips\",\"sugar\",\"butter\"]       199   \n",
       "80   chocolate       [\"flour\",\"chocolate chips\",\"sugar\",\"butter\"]       197   \n",
       "72         red  [\"flour\",\"cocoa powder\",\"butter\",\"red food col...       196   \n",
       "88      laddoo             [\"flour\",\"lemon juice\",\"sugar\",\"ghee\"]       167   \n",
       "47       minty          [\"flour\",\"mint extract\",\"sugar\",\"butter\"]       174   \n",
       "29    nevadito  [\"flour\",\"chocolate chips\",\"milk\",\"vanilla ext...       219   \n",
       "62   chocolate       [\"flour\",\"chocolate chips\",\"sugar\",\"butter\"]       206   \n",
       "76         red  [\"flour\",\"cocoa powder\",\"butter\",\"red food col...       206   \n",
       "\n",
       "     radius  cost_to_make  \n",
       "110   4.930          1.55  \n",
       "30    4.667          1.90  \n",
       "60    4.573          1.56  \n",
       "49    4.562          1.12  \n",
       "101   4.519          1.91  \n",
       "97    4.475          1.74  \n",
       "87    4.474          1.64  \n",
       "80    4.461          2.17  \n",
       "72    4.425          1.37  \n",
       "88    4.401          1.74  \n",
       "47    4.388          1.14  \n",
       "29    4.346          1.68  \n",
       "62    4.328          1.84  \n",
       "76    4.319          1.74  "
      ]
     },
     "execution_count": 72,
     "metadata": {},
     "output_type": "execute_result"
    }
   ],
   "source": [
    "#TODO: filter using the boolean expression\n",
    "cookies.query('radius > 4.3')"
   ]
  },
  {
   "attachments": {},
   "cell_type": "markdown",
   "metadata": {},
   "source": [
    "We may even want to use `groupby()` and filter idea together! For example, we can filter the data to only show the cookies that have a radius greater than 4.3 cm, and group the data by the `cookie` column."
   ]
  },
  {
   "cell_type": "code",
   "execution_count": 75,
   "metadata": {},
   "outputs": [
    {
     "name": "stdout",
     "output_type": "stream",
     "text": [
      "       cookie                                   ingredients  calories  radius  \\\n",
      "87  chocolate  [\"flour\",\"chocolate chips\",\"sugar\",\"butter\"]       199   4.474   \n",
      "80  chocolate  [\"flour\",\"chocolate chips\",\"sugar\",\"butter\"]       197   4.461   \n",
      "62  chocolate  [\"flour\",\"chocolate chips\",\"sugar\",\"butter\"]       206   4.328   \n",
      "\n",
      "    cost_to_make  \n",
      "87          1.64  \n",
      "80          2.17  \n",
      "62          1.84  \n",
      "     cookie                             ingredients  calories  radius  \\\n",
      "49   laddoo  [\"flour\",\"lemon juice\",\"sugar\",\"ghee\"]       195   4.562   \n",
      "101  laddoo  [\"flour\",\"lemon juice\",\"sugar\",\"ghee\"]       178   4.519   \n",
      "88   laddoo  [\"flour\",\"lemon juice\",\"sugar\",\"ghee\"]       167   4.401   \n",
      "\n",
      "     cost_to_make  \n",
      "49           1.12  \n",
      "101          1.91  \n",
      "88           1.74  \n",
      "   cookie                                ingredients  calories  radius  \\\n",
      "47  minty  [\"flour\",\"mint extract\",\"sugar\",\"butter\"]       174   4.388   \n",
      "\n",
      "    cost_to_make  \n",
      "47          1.14  \n",
      "      cookie                                        ingredients  calories  \\\n",
      "29  nevadito  [\"flour\",\"chocolate chips\",\"milk\",\"vanilla ext...       219   \n",
      "\n",
      "    radius  cost_to_make  \n",
      "29   4.346          1.68  \n",
      "    cookie                                       ingredients  calories  \\\n",
      "60  orange  [\"flour\",\"orange juice\",\"sugar\",\"vegetable oil\"]       186   \n",
      "\n",
      "    radius  cost_to_make  \n",
      "60   4.573          1.56  \n",
      "    cookie                                        ingredients  calories  \\\n",
      "110    red  [\"flour\",\"cocoa powder\",\"butter\",\"red food col...       198   \n",
      "30     red  [\"flour\",\"cocoa powder\",\"butter\",\"red food col...       204   \n",
      "97     red  [\"flour\",\"cocoa powder\",\"butter\",\"red food col...       191   \n",
      "72     red  [\"flour\",\"cocoa powder\",\"butter\",\"red food col...       196   \n",
      "76     red  [\"flour\",\"cocoa powder\",\"butter\",\"red food col...       206   \n",
      "\n",
      "     radius  cost_to_make  \n",
      "110   4.930          1.55  \n",
      "30    4.667          1.90  \n",
      "97    4.475          1.74  \n",
      "72    4.425          1.37  \n",
      "76    4.319          1.74  \n"
     ]
    },
    {
     "data": {
      "text/html": [
       "<div>\n",
       "<style scoped>\n",
       "    .dataframe tbody tr th:only-of-type {\n",
       "        vertical-align: middle;\n",
       "    }\n",
       "\n",
       "    .dataframe tbody tr th {\n",
       "        vertical-align: top;\n",
       "    }\n",
       "\n",
       "    .dataframe thead th {\n",
       "        text-align: right;\n",
       "    }\n",
       "</style>\n",
       "<table border=\"1\" class=\"dataframe\">\n",
       "  <thead>\n",
       "    <tr style=\"text-align: right;\">\n",
       "      <th></th>\n",
       "    </tr>\n",
       "  </thead>\n",
       "  <tbody>\n",
       "  </tbody>\n",
       "</table>\n",
       "</div>"
      ],
      "text/plain": [
       "Empty DataFrame\n",
       "Columns: []\n",
       "Index: []"
      ]
     },
     "execution_count": 75,
     "metadata": {},
     "output_type": "execute_result"
    }
   ],
   "source": [
    "#TODO: filter the data using the boolean expression\n",
    "# then group by cookie column\n",
    "cookies.query('radius > 4.3').groupby(['cookie']).apply(print)"
   ]
  },
  {
   "attachments": {},
   "cell_type": "markdown",
   "metadata": {},
   "source": [
    "We may also want to aggregate the data. For example, we can aggregate the data by looking at the ratio of calories to radius. We can do this by using indexing and the `apply()` function."
   ]
  },
  {
   "cell_type": "code",
   "execution_count": 83,
   "metadata": {},
   "outputs": [
    {
     "name": "stdout",
     "output_type": "stream",
     "text": [
      "        cookie                                        ingredients  calories  \\\n",
      "110        red  [\"flour\",\"cocoa powder\",\"butter\",\"red food col...       198   \n",
      "30         red  [\"flour\",\"cocoa powder\",\"butter\",\"red food col...       204   \n",
      "60      orange   [\"flour\",\"orange juice\",\"sugar\",\"vegetable oil\"]       186   \n",
      "49      laddoo             [\"flour\",\"lemon juice\",\"sugar\",\"ghee\"]       195   \n",
      "101     laddoo             [\"flour\",\"lemon juice\",\"sugar\",\"ghee\"]       178   \n",
      "97         red  [\"flour\",\"cocoa powder\",\"butter\",\"red food col...       191   \n",
      "87   chocolate       [\"flour\",\"chocolate chips\",\"sugar\",\"butter\"]       199   \n",
      "80   chocolate       [\"flour\",\"chocolate chips\",\"sugar\",\"butter\"]       197   \n",
      "72         red  [\"flour\",\"cocoa powder\",\"butter\",\"red food col...       196   \n",
      "88      laddoo             [\"flour\",\"lemon juice\",\"sugar\",\"ghee\"]       167   \n",
      "\n",
      "     radius  cost_to_make  calories_per_radius  \n",
      "110   4.930          1.55            40.162272  \n",
      "30    4.667          1.90            43.711163  \n",
      "60    4.573          1.56            40.673518  \n",
      "49    4.562          1.12            42.744410  \n",
      "101   4.519          1.91            39.389245  \n",
      "97    4.475          1.74            42.681564  \n",
      "87    4.474          1.64            44.479213  \n",
      "80    4.461          2.17            44.160502  \n",
      "72    4.425          1.37            44.293785  \n",
      "88    4.401          1.74            37.945921  \n"
     ]
    }
   ],
   "source": [
    "#TODO: add a column to the dataframe that is the\n",
    "# calories per radius\n",
    "cookies['calories_per_radius'] = cookies.calories / cookies.radius\n",
    "print(cookies.head(10))"
   ]
  },
  {
   "attachments": {},
   "cell_type": "markdown",
   "metadata": {},
   "source": [
    "Or we can just get rid of this column if we find it useless. We can do this by using the `drop()` function or indexing."
   ]
  },
  {
   "cell_type": "code",
   "execution_count": 84,
   "metadata": {},
   "outputs": [
    {
     "name": "stdout",
     "output_type": "stream",
     "text": [
      "        cookie                                        ingredients  calories  \\\n",
      "110        red  [\"flour\",\"cocoa powder\",\"butter\",\"red food col...       198   \n",
      "30         red  [\"flour\",\"cocoa powder\",\"butter\",\"red food col...       204   \n",
      "60      orange   [\"flour\",\"orange juice\",\"sugar\",\"vegetable oil\"]       186   \n",
      "49      laddoo             [\"flour\",\"lemon juice\",\"sugar\",\"ghee\"]       195   \n",
      "101     laddoo             [\"flour\",\"lemon juice\",\"sugar\",\"ghee\"]       178   \n",
      "97         red  [\"flour\",\"cocoa powder\",\"butter\",\"red food col...       191   \n",
      "87   chocolate       [\"flour\",\"chocolate chips\",\"sugar\",\"butter\"]       199   \n",
      "80   chocolate       [\"flour\",\"chocolate chips\",\"sugar\",\"butter\"]       197   \n",
      "72         red  [\"flour\",\"cocoa powder\",\"butter\",\"red food col...       196   \n",
      "88      laddoo             [\"flour\",\"lemon juice\",\"sugar\",\"ghee\"]       167   \n",
      "\n",
      "     radius  cost_to_make  \n",
      "110   4.930          1.55  \n",
      "30    4.667          1.90  \n",
      "60    4.573          1.56  \n",
      "49    4.562          1.12  \n",
      "101   4.519          1.91  \n",
      "97    4.475          1.74  \n",
      "87    4.474          1.64  \n",
      "80    4.461          2.17  \n",
      "72    4.425          1.37  \n",
      "88    4.401          1.74  \n"
     ]
    }
   ],
   "source": [
    "#TODO: drop the created column\n",
    "cookies = cookies.drop(columns = ['calories_per_radius'])\n",
    "print(cookies.head(10))"
   ]
  },
  {
   "attachments": {},
   "cell_type": "markdown",
   "metadata": {},
   "source": [
    "### Visualizing the data"
   ]
  },
  {
   "attachments": {},
   "cell_type": "markdown",
   "metadata": {},
   "source": [
    "We can also visualize the data. For example, we can visualize the data by plotting the radius of the cookies against the cost to make the cookies. We can do this by using the `plot()` function."
   ]
  },
  {
   "cell_type": "code",
   "execution_count": 87,
   "metadata": {},
   "outputs": [
    {
     "data": {
      "text/plain": [
       "[<matplotlib.lines.Line2D at 0x1beb9a9d4d0>]"
      ]
     },
     "execution_count": 87,
     "metadata": {},
     "output_type": "execute_result"
    },
    {
     "data": {
      "image/png": "[encoded data removed]",
      "text/plain": [
       "<Figure size 640x480 with 1 Axes>"
      ]
     },
     "metadata": {},
     "output_type": "display_data"
    }
   ],
   "source": [
    "#TODO: plot the radius (x) versus cost to make (y)\n",
    "plt.plot(cookies.radius, cookies.cost_to_make, 'ro')"
   ]
  },
  {
   "attachments": {},
   "cell_type": "markdown",
   "metadata": {},
   "source": [
    "We may even want to get more specific and visualize the shape of a distribution of the `laddoo lemon`'s radius by making a boxplot. We can also do this by using the `plot()` function."
   ]
  },
  {
   "cell_type": "code",
   "execution_count": 93,
   "metadata": {},
   "outputs": [
    {
     "data": {
      "text/plain": [
       "[<matplotlib.lines.Line2D at 0x1bebc4fda10>]"
      ]
     },
     "execution_count": 93,
     "metadata": {},
     "output_type": "execute_result"
    },
    {
     "data": {
      "image/png": "[encoded data removed]",
      "text/plain": [
       "<Figure size 640x480 with 1 Axes>"
      ]
     },
     "metadata": {},
     "output_type": "display_data"
    }
   ],
   "source": [
    "#TODO: add the described boxplot\n",
    "# remember that you changed the name from laddoo lemon to laddoo\n",
    "laddoo = cookies.query('cookie == \"laddoo\"')\n",
    "plt.plot(laddoo.radius, laddoo.cost_to_make, 'ro')"
   ]
  },
  {
   "attachments": {},
   "cell_type": "markdown",
   "metadata": {},
   "source": [
    "Alternatively, we can create a histogram to visualize the distribution of the `laddoo lemon`'s radius. We can also do this by using the `plot()` function."
   ]
  },
  {
   "cell_type": "code",
   "execution_count": 98,
   "metadata": {},
   "outputs": [
    {
     "data": {
      "text/plain": [
       "(array([2., 1., 0., 3., 0., 1., 3., 0., 1., 2.]),\n",
       " array([3.102, 3.248, 3.394, 3.54 , 3.686, 3.832, 3.978, 4.124, 4.27 ,\n",
       "        4.416, 4.562]),\n",
       " <BarContainer object of 10 artists>)"
      ]
     },
     "execution_count": 98,
     "metadata": {},
     "output_type": "execute_result"
    },
    {
     "data": {
      "image/png": "[encoded data removed]",
      "text/plain": [
       "<Figure size 640x480 with 1 Axes>"
      ]
     },
     "metadata": {},
     "output_type": "display_data"
    }
   ],
   "source": [
    "#TODO: add the described histogram\n",
    "laddoo = cookies.query('cookie == \"laddoo\"')\n",
    "plt.hist(laddoo.radius)"
   ]
  },
  {
   "attachments": {},
   "cell_type": "markdown",
   "metadata": {},
   "source": [
    "Things can get more complicated too. Maybe we want to analyze the behaviors of `bad berry bunny` and `laddoo lemon`'s radius using a boxplot. But this time, let's try it using the alternative `boxplot()` function. For practice, try doing it with `plot()` too!"
   ]
  },
  {
   "cell_type": "code",
   "execution_count": 103,
   "metadata": {},
   "outputs": [
    {
     "data": {
      "text/plain": [
       "{'whiskers': [<matplotlib.lines.Line2D at 0x1bebf8c9a10>,\n",
       "  <matplotlib.lines.Line2D at 0x1bebf8ca410>,\n",
       "  <matplotlib.lines.Line2D at 0x1bebf8d59d0>,\n",
       "  <matplotlib.lines.Line2D at 0x1bebf8d6290>],\n",
       " 'caps': [<matplotlib.lines.Line2D at 0x1bebf8cae10>,\n",
       "  <matplotlib.lines.Line2D at 0x1bebf8cb550>,\n",
       "  <matplotlib.lines.Line2D at 0x1bebf8d6b90>,\n",
       "  <matplotlib.lines.Line2D at 0x1bebf8d7410>],\n",
       " 'boxes': [<matplotlib.lines.Line2D at 0x1bebf8c9210>,\n",
       "  <matplotlib.lines.Line2D at 0x1bebf8d5090>],\n",
       " 'medians': [<matplotlib.lines.Line2D at 0x1bebf8cbe50>,\n",
       "  <matplotlib.lines.Line2D at 0x1bebf8d7c10>],\n",
       " 'fliers': [<matplotlib.lines.Line2D at 0x1bebf8d47d0>,\n",
       "  <matplotlib.lines.Line2D at 0x1bebf8e0450>],\n",
       " 'means': []}"
      ]
     },
     "execution_count": 103,
     "metadata": {},
     "output_type": "execute_result"
    },
    {
     "data": {
      "image/png": "[encoded data removed]",
      "text/plain": [
       "<Figure size 640x480 with 1 Axes>"
      ]
     },
     "metadata": {},
     "output_type": "display_data"
    }
   ],
   "source": [
    "#TODO: analyze the two cookie's radius in a boxplot\n",
    "laddoo = cookies.query('cookie == \"laddoo\"')\n",
    "bbb = cookies.query('cookie == \"bbb\"')\n",
    "plt.boxplot([laddoo.radius, bbb.radius])"
   ]
  },
  {
   "attachments": {},
   "cell_type": "markdown",
   "metadata": {},
   "source": [
    "### Practice Problems\n",
    "Now that you have learned some of Pandas' capabilities, let's try some practice problems! **This is the part that will be checked when you submit it!**"
   ]
  },
  {
   "attachments": {},
   "cell_type": "markdown",
   "metadata": {},
   "source": [
    "#### Problem 1\n",
    "How many cookies were made? (Hint: use the `shape` attribute)"
   ]
  },
  {
   "cell_type": "code",
   "execution_count": 107,
   "metadata": {},
   "outputs": [
    {
     "name": "stdout",
     "output_type": "stream",
     "text": [
      "103 cookies!\n"
     ]
    }
   ],
   "source": [
    "#Add your code here\n",
    "print(cookies.shape[0], \"cookies!\")"
   ]
  },
  {
   "attachments": {},
   "cell_type": "markdown",
   "metadata": {},
   "source": [
    "#### Problem 2\n",
    "Add a column to the DataFrame that has the value `True` if the cookie has a radius greater than 4 cm, and `False` otherwise. (Hint: use the `apply()` function)"
   ]
  },
  {
   "cell_type": "code",
   "execution_count": 116,
   "metadata": {},
   "outputs": [
    {
     "name": "stdout",
     "output_type": "stream",
     "text": [
      "        cookie                                        ingredients  calories  \\\n",
      "110        red  [\"flour\",\"cocoa powder\",\"butter\",\"red food col...       198   \n",
      "30         red  [\"flour\",\"cocoa powder\",\"butter\",\"red food col...       204   \n",
      "60      orange   [\"flour\",\"orange juice\",\"sugar\",\"vegetable oil\"]       186   \n",
      "49      laddoo             [\"flour\",\"lemon juice\",\"sugar\",\"ghee\"]       195   \n",
      "101     laddoo             [\"flour\",\"lemon juice\",\"sugar\",\"ghee\"]       178   \n",
      "97         red  [\"flour\",\"cocoa powder\",\"butter\",\"red food col...       191   \n",
      "87   chocolate       [\"flour\",\"chocolate chips\",\"sugar\",\"butter\"]       199   \n",
      "80   chocolate       [\"flour\",\"chocolate chips\",\"sugar\",\"butter\"]       197   \n",
      "72         red  [\"flour\",\"cocoa powder\",\"butter\",\"red food col...       196   \n",
      "88      laddoo             [\"flour\",\"lemon juice\",\"sugar\",\"ghee\"]       167   \n",
      "\n",
      "     radius  cost_to_make  is_big  \n",
      "110   4.930          1.55    True  \n",
      "30    4.667          1.90    True  \n",
      "60    4.573          1.56    True  \n",
      "49    4.562          1.12    True  \n",
      "101   4.519          1.91    True  \n",
      "97    4.475          1.74    True  \n",
      "87    4.474          1.64    True  \n",
      "80    4.461          2.17    True  \n",
      "72    4.425          1.37    True  \n",
      "88    4.401          1.74    True  \n"
     ]
    }
   ],
   "source": [
    "#Add your code here\n",
    "cookies['is_big'] = cookies.radius > 4\n",
    "print(cookies.head(10))"
   ]
  },
  {
   "attachments": {},
   "cell_type": "markdown",
   "metadata": {},
   "source": [
    "#### Problem 3\n",
    "\n",
    "Group the data by the `cookie` column, and find the average radius of each cookie. (Hint: use the `groupby()` and `transform()` function). Add this column to the DataFrame."
   ]
  },
  {
   "cell_type": "code",
   "execution_count": 130,
   "metadata": {},
   "outputs": [
    {
     "name": "stdout",
     "output_type": "stream",
     "text": [
      "        cookie                                        ingredients  calories  \\\n",
      "110        red  [\"flour\",\"cocoa powder\",\"butter\",\"red food col...       198   \n",
      "30         red  [\"flour\",\"cocoa powder\",\"butter\",\"red food col...       204   \n",
      "60      orange   [\"flour\",\"orange juice\",\"sugar\",\"vegetable oil\"]       186   \n",
      "49      laddoo             [\"flour\",\"lemon juice\",\"sugar\",\"ghee\"]       195   \n",
      "101     laddoo             [\"flour\",\"lemon juice\",\"sugar\",\"ghee\"]       178   \n",
      "97         red  [\"flour\",\"cocoa powder\",\"butter\",\"red food col...       191   \n",
      "87   chocolate       [\"flour\",\"chocolate chips\",\"sugar\",\"butter\"]       199   \n",
      "80   chocolate       [\"flour\",\"chocolate chips\",\"sugar\",\"butter\"]       197   \n",
      "72         red  [\"flour\",\"cocoa powder\",\"butter\",\"red food col...       196   \n",
      "88      laddoo             [\"flour\",\"lemon juice\",\"sugar\",\"ghee\"]       167   \n",
      "\n",
      "     radius  cost_to_make  is_big  avg_radius  \n",
      "110   4.930          1.55    True    4.106471  \n",
      "30    4.667          1.90    True    4.106471  \n",
      "60    4.573          1.56    True    3.506125  \n",
      "49    4.562          1.12    True    3.849000  \n",
      "101   4.519          1.91    True    3.849000  \n",
      "97    4.475          1.74    True    4.106471  \n",
      "87    4.474          1.64    True    4.062833  \n",
      "80    4.461          2.17    True    4.062833  \n",
      "72    4.425          1.37    True    4.106471  \n",
      "88    4.401          1.74    True    3.849000  \n"
     ]
    }
   ],
   "source": [
    "#Add your code here\n",
    "cookies['avg_radius'] = cookies.groupby(['cookie'])['radius'].transform('mean')\n",
    "print(cookies.head(10))"
   ]
  },
  {
   "attachments": {},
   "cell_type": "markdown",
   "metadata": {},
   "source": [
    "#### Problem 4\n",
    "Create a new DataFrame that only contains the cookies that have the ingredient `\"chocolate chips\"`. (Hint: use the `str.contains()` function)"
   ]
  },
  {
   "cell_type": "code",
   "execution_count": 137,
   "metadata": {},
   "outputs": [
    {
     "name": "stdout",
     "output_type": "stream",
     "text": [
      "        cookie                                        ingredients  calories  \\\n",
      "87   chocolate       [\"flour\",\"chocolate chips\",\"sugar\",\"butter\"]       199   \n",
      "80   chocolate       [\"flour\",\"chocolate chips\",\"sugar\",\"butter\"]       197   \n",
      "29    nevadito  [\"flour\",\"chocolate chips\",\"milk\",\"vanilla ext...       219   \n",
      "62   chocolate       [\"flour\",\"chocolate chips\",\"sugar\",\"butter\"]       206   \n",
      "55   chocolate       [\"flour\",\"chocolate chips\",\"sugar\",\"butter\"]       229   \n",
      "48   chocolate       [\"flour\",\"chocolate chips\",\"sugar\",\"butter\"]       240   \n",
      "94   chocolate       [\"flour\",\"chocolate chips\",\"sugar\",\"butter\"]       243   \n",
      "64    nevadito  [\"flour\",\"chocolate chips\",\"milk\",\"vanilla ext...       211   \n",
      "107  chocolate       [\"flour\",\"chocolate chips\",\"sugar\",\"butter\"]       222   \n",
      "36    nevadito  [\"flour\",\"chocolate chips\",\"milk\",\"vanilla ext...       211   \n",
      "\n",
      "     radius  cost_to_make  is_big  avg_radius  \n",
      "87    4.474          1.64    True    4.062833  \n",
      "80    4.461          2.17    True    4.062833  \n",
      "29    4.346          1.68    True    3.959000  \n",
      "62    4.328          1.84    True    4.062833  \n",
      "55    4.217          1.69    True    4.062833  \n",
      "48    4.212          1.47    True    4.062833  \n",
      "94    4.207          1.64    True    4.062833  \n",
      "64    4.205          1.69    True    3.959000  \n",
      "107   4.186          1.36    True    4.062833  \n",
      "36    4.152          2.22    True    3.959000  \n"
     ]
    }
   ],
   "source": [
    "#Add your code here\n",
    "chocolate_chips = cookies.query('ingredients.str.contains(\"chocolate chips\")')\n",
    "print(chocolate_chips.head(10))"
   ]
  },
  {
   "attachments": {},
   "cell_type": "markdown",
   "metadata": {},
   "source": [
    "#### Problem 5\n",
    "\n",
    "Create a boxplot of `cost_to_make` for all cookies except `chocolate` using the `boxplot()` function."
   ]
  },
  {
   "cell_type": "code",
   "execution_count": 139,
   "metadata": {},
   "outputs": [
    {
     "data": {
      "text/plain": [
       "{'whiskers': [<matplotlib.lines.Line2D at 0x1bec0666450>,\n",
       "  <matplotlib.lines.Line2D at 0x1bec0666e50>],\n",
       " 'caps': [<matplotlib.lines.Line2D at 0x1bec053b110>,\n",
       "  <matplotlib.lines.Line2D at 0x1bec007ad50>],\n",
       " 'boxes': [<matplotlib.lines.Line2D at 0x1bec0665b90>],\n",
       " 'medians': [<matplotlib.lines.Line2D at 0x1bec05a2410>],\n",
       " 'fliers': [<matplotlib.lines.Line2D at 0x1bec05cd390>],\n",
       " 'means': []}"
      ]
     },
     "execution_count": 139,
     "metadata": {},
     "output_type": "execute_result"
    },
    {
     "data": {
      "image/png": "[encoded data removed]",
      "text/plain": [
       "<Figure size 640x480 with 1 Axes>"
      ]
     },
     "metadata": {},
     "output_type": "display_data"
    }
   ],
   "source": [
    "#Add your code here\n",
    "plt.boxplot(cookies.query('cookie != \"chocolate\"').cost_to_make)"
   ]
  },
  {
   "attachments": {},
   "cell_type": "markdown",
   "metadata": {},
   "source": [
    "#### Problem 6\n",
    "\n",
    "Create a histogram of the `bad berry bunny`'s calories using the `plot()` function."
   ]
  },
  {
   "cell_type": "code",
   "execution_count": 138,
   "metadata": {},
   "outputs": [
    {
     "data": {
      "text/plain": [
       "(array([2., 1., 2., 4., 1., 1., 2., 0., 1., 1.]),\n",
       " array([171. , 175.2, 179.4, 183.6, 187.8, 192. , 196.2, 200.4, 204.6,\n",
       "        208.8, 213. ]),\n",
       " <BarContainer object of 10 artists>)"
      ]
     },
     "execution_count": 138,
     "metadata": {},
     "output_type": "execute_result"
    },
    {
     "data": {
      "image/png": "[encoded data removed]",
      "text/plain": [
       "<Figure size 640x480 with 1 Axes>"
      ]
     },
     "metadata": {},
     "output_type": "display_data"
    }
   ],
   "source": [
    "#Add your code here\n",
    "bbb = cookies.query('cookie == \"bbb\"')\n",
    "plt.hist(bbb.calories)"
   ]
  },
  {
   "cell_type": "markdown",
   "metadata": {},
   "source": [
    "#### Problem 7\n",
    "\n",
    "Calculate the average calories per cookie type and display the result in a bar chart."
   ]
  },
  {
   "cell_type": "code",
   "execution_count": 154,
   "metadata": {},
   "outputs": [
    {
     "name": "stdout",
     "output_type": "stream",
     "text": [
      "cookie\n",
      "bbb          188.466667\n",
      "chocolate    221.416667\n",
      "laddoo       174.384615\n",
      "minty        186.266667\n",
      "nevadito     222.400000\n",
      "orange       167.250000\n",
      "red          200.176471\n",
      "Name: calories, dtype: float64\n"
     ]
    },
    {
     "data": {
      "text/plain": [
       "<BarContainer object of 7 artists>"
      ]
     },
     "execution_count": 154,
     "metadata": {},
     "output_type": "execute_result"
    },
    {
     "data": {
      "image/png": "[encoded data removed]",
      "text/plain": [
       "<Figure size 640x480 with 1 Axes>"
      ]
     },
     "metadata": {},
     "output_type": "display_data"
    }
   ],
   "source": [
    "#Add your code here\n",
    "print(cookies.groupby(['cookie'])['calories'].mean())\n",
    "plt.bar(cookies.sort_values(by = \"cookie\").cookie.unique(), cookies.groupby(['cookie'])['calories'].mean())"
   ]
  },
  {
   "cell_type": "markdown",
   "metadata": {},
   "source": [
    "#### Problem 8\n",
    "\n",
    "Find the top 3 most expensive cookies in terms of cost_to_make"
   ]
  },
  {
   "cell_type": "code",
   "execution_count": 140,
   "metadata": {},
   "outputs": [
    {
     "name": "stdout",
     "output_type": "stream",
     "text": [
      "      cookie                                        ingredients  calories  \\\n",
      "42    laddoo             [\"flour\",\"lemon juice\",\"sugar\",\"ghee\"]       176   \n",
      "50  nevadito  [\"flour\",\"chocolate chips\",\"milk\",\"vanilla ext...       220   \n",
      "13    orange   [\"flour\",\"orange juice\",\"sugar\",\"vegetable oil\"]       159   \n",
      "\n",
      "    radius  cost_to_make  is_big  avg_radius  \n",
      "42   4.110          2.77    True    3.849000  \n",
      "50   3.855          2.71   False    3.959000  \n",
      "13   3.429          2.59   False    3.506125  \n"
     ]
    }
   ],
   "source": [
    "#Add your code here\n",
    "print(cookies.sort_values(by = \"cost_to_make\", ascending = False).head(3))"
   ]
  }
 ],
 "metadata": {
  "kernelspec": {
   "display_name": "Python 3 (ipykernel)",
   "language": "python",
   "name": "python3"
  },
  "language_info": {
   "codemirror_mode": {
    "name": "ipython",
    "version": 3
   },
   "file_extension": ".py",
   "mimetype": "text/x-python",
   "name": "python",
   "nbconvert_exporter": "python",
   "pygments_lexer": "ipython3",
   "version": "3.11.5"
  },
  "vscode": {
   "interpreter": {
    "hash": "63639127d0784e8e4de1a76bcacd89583be09d9f82d600966cd9457d183cbbf7"
   }
  }
 },
 "nbformat": 4,
 "nbformat_minor": 4
}
